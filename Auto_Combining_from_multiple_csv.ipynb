{
  "nbformat": 4,
  "nbformat_minor": 0,
  "metadata": {
    "colab": {
      "name": "Auto_Combining_from_multiple_csv.ipynb",
      "provenance": [],
      "collapsed_sections": [
        "L6jlWJKXBo0m",
        "OBb1c_XBBsNl",
        "W-c7NK3rq2Fz",
        "leXvFEtCq6hW"
      ],
      "toc_visible": true,
      "include_colab_link": true
    },
    "kernelspec": {
      "name": "python3",
      "display_name": "Python 3"
    }
  },
  "cells": [
    {
      "cell_type": "markdown",
      "metadata": {
        "id": "view-in-github",
        "colab_type": "text"
      },
      "source": [
        "<a href=\"https://colab.research.google.com/github/SebastianLarssonDTU/02456-Reinforcement-Learning-Project/blob/before_framestacking/Auto_Combining_from_multiple_csv.ipynb\" target=\"_parent\"><img src=\"https://colab.research.google.com/assets/colab-badge.svg\" alt=\"Open In Colab\"/></a>"
      ]
    },
    {
      "cell_type": "markdown",
      "metadata": {
        "id": "L6jlWJKXBo0m"
      },
      "source": [
        "# INIT : Procgen, Drive, Git"
      ]
    },
    {
      "cell_type": "code",
      "metadata": {
        "id": "_mmSs5ItNLLI",
        "colab": {
          "base_uri": "https://localhost:8080/"
        },
        "outputId": "12735f5a-b2ad-4488-f042-904dc1774d78"
      },
      "source": [
        "!pip install procgen"
      ],
      "execution_count": 1,
      "outputs": [
        {
          "output_type": "stream",
          "text": [
            "Requirement already satisfied: procgen in /usr/local/lib/python3.6/dist-packages (0.10.4)\n",
            "Requirement already satisfied: numpy<2.0.0,>=1.17.0 in /usr/local/lib/python3.6/dist-packages (from procgen) (1.18.5)\n",
            "Requirement already satisfied: gym<1.0.0,>=0.15.0 in /usr/local/lib/python3.6/dist-packages (from procgen) (0.17.3)\n",
            "Requirement already satisfied: gym3<1.0.0,>=0.3.3 in /usr/local/lib/python3.6/dist-packages (from procgen) (0.3.3)\n",
            "Requirement already satisfied: filelock<4.0.0,>=3.0.0 in /usr/local/lib/python3.6/dist-packages (from procgen) (3.0.12)\n",
            "Requirement already satisfied: cloudpickle<1.7.0,>=1.2.0 in /usr/local/lib/python3.6/dist-packages (from gym<1.0.0,>=0.15.0->procgen) (1.3.0)\n",
            "Requirement already satisfied: pyglet<=1.5.0,>=1.4.0 in /usr/local/lib/python3.6/dist-packages (from gym<1.0.0,>=0.15.0->procgen) (1.5.0)\n",
            "Requirement already satisfied: scipy in /usr/local/lib/python3.6/dist-packages (from gym<1.0.0,>=0.15.0->procgen) (1.4.1)\n",
            "Requirement already satisfied: glfw<2.0.0,>=1.8.6 in /usr/local/lib/python3.6/dist-packages (from gym3<1.0.0,>=0.3.3->procgen) (1.12.0)\n",
            "Requirement already satisfied: imageio<3.0.0,>=2.6.0 in /usr/local/lib/python3.6/dist-packages (from gym3<1.0.0,>=0.3.3->procgen) (2.9.0)\n",
            "Requirement already satisfied: imageio-ffmpeg<0.4.0,>=0.3.0 in /usr/local/lib/python3.6/dist-packages (from gym3<1.0.0,>=0.3.3->procgen) (0.3.0)\n",
            "Requirement already satisfied: cffi<2.0.0,>=1.13.0 in /usr/local/lib/python3.6/dist-packages (from gym3<1.0.0,>=0.3.3->procgen) (1.14.3)\n",
            "Requirement already satisfied: moderngl<6.0.0,>=5.5.4 in /usr/local/lib/python3.6/dist-packages (from gym3<1.0.0,>=0.3.3->procgen) (5.6.2)\n",
            "Requirement already satisfied: future in /usr/local/lib/python3.6/dist-packages (from pyglet<=1.5.0,>=1.4.0->gym<1.0.0,>=0.15.0->procgen) (0.16.0)\n",
            "Requirement already satisfied: pillow in /usr/local/lib/python3.6/dist-packages (from imageio<3.0.0,>=2.6.0->gym3<1.0.0,>=0.3.3->procgen) (7.0.0)\n",
            "Requirement already satisfied: pycparser in /usr/local/lib/python3.6/dist-packages (from cffi<2.0.0,>=1.13.0->gym3<1.0.0,>=0.3.3->procgen) (2.20)\n",
            "Requirement already satisfied: glcontext<3,>=2 in /usr/local/lib/python3.6/dist-packages (from moderngl<6.0.0,>=5.5.4->gym3<1.0.0,>=0.3.3->procgen) (2.2.0)\n"
          ],
          "name": "stdout"
        }
      ]
    },
    {
      "cell_type": "code",
      "metadata": {
        "id": "_RgF6myEA6WL",
        "colab": {
          "base_uri": "https://localhost:8080/"
        },
        "outputId": "761b6444-9e88-48f6-c671-82686e0b941f"
      },
      "source": [
        "#Clone git\n",
        "!git clone -b restructure_code https://github.com/SebastianLarssonDTU/02456-Reinforcement-Learning-Project.git \"my_project\""
      ],
      "execution_count": 2,
      "outputs": [
        {
          "output_type": "stream",
          "text": [
            "fatal: destination path 'my_project' already exists and is not an empty directory.\n"
          ],
          "name": "stdout"
        }
      ]
    },
    {
      "cell_type": "code",
      "metadata": {
        "id": "G-jsbleFHMz7",
        "colab": {
          "base_uri": "https://localhost:8080/"
        },
        "outputId": "e8a2b443-052f-48bd-ec0e-3d1204634e73"
      },
      "source": [
        "#update git\n",
        "%cd /content/my_project\n",
        "! git pull"
      ],
      "execution_count": 3,
      "outputs": [
        {
          "output_type": "stream",
          "text": [
            "/content/my_project\n",
            "remote: Enumerating objects: 6, done.\u001b[K\n",
            "remote: Counting objects: 100% (6/6), done.\u001b[K\n",
            "remote: Compressing objects: 100% (6/6), done.\u001b[K\n",
            "remote: Total 6 (delta 2), reused 0 (delta 0), pack-reused 0\u001b[K\n",
            "Unpacking objects: 100% (6/6), done.\n",
            "From https://github.com/SebastianLarssonDTU/02456-Reinforcement-Learning-Project\n",
            "   f70f3f1..4b2dab1  before_framestacking -> origin/before_framestacking\n",
            "Already up to date.\n"
          ],
          "name": "stdout"
        }
      ]
    },
    {
      "cell_type": "code",
      "metadata": {
        "id": "abnnrXLuB6Ry",
        "colab": {
          "base_uri": "https://localhost:8080/"
        },
        "outputId": "209a5fa5-c8f8-43e0-f4e2-b46ebe38907e"
      },
      "source": [
        "import datatools as tools\n",
        "from datatools import DATA_PATH, MODEL_PATH\n",
        "#Mount drive\n",
        "tools.mount_drive()"
      ],
      "execution_count": 4,
      "outputs": [
        {
          "output_type": "stream",
          "text": [
            "Drive already mounted at /content/drive; to attempt to forcibly remount, call drive.mount(\"/content/drive\", force_remount=True).\n"
          ],
          "name": "stdout"
        }
      ]
    },
    {
      "cell_type": "markdown",
      "metadata": {
        "id": "OBb1c_XBBsNl"
      },
      "source": [
        "# Import"
      ]
    },
    {
      "cell_type": "code",
      "metadata": {
        "id": "7XmB8QZ7BQIW"
      },
      "source": [
        "#Import all custom files\n",
        "import baseline\n",
        "import datatools as tools\n",
        "import hyperparameters as h\n",
        "import model\n",
        "import my_util\n",
        "import policy\n",
        "import ppo\n",
        "import utils\n",
        "\n",
        "#other imports\n",
        "import torch\n",
        "\n",
        "#import specific methods\n",
        "from baseline import set_hyperparameters\n",
        "from ppo import PPO\n",
        "from experiments import run_experiment, print_list_of_experiments\n"
      ],
      "execution_count": 5,
      "outputs": []
    },
    {
      "cell_type": "markdown",
      "metadata": {
        "id": "AnJTSTYQ3t1t"
      },
      "source": [
        "# Create Index File\n",
        "\n"
      ]
    },
    {
      "cell_type": "code",
      "metadata": {
        "id": "JRPwQn0pHiEZ"
      },
      "source": [
        "INDEX = tools.create_index_table_from_txt_files()"
      ],
      "execution_count": 14,
      "outputs": []
    },
    {
      "cell_type": "markdown",
      "metadata": {
        "id": "dmTmfbqpqNIK"
      },
      "source": [
        "# Create .csv's\n",
        "\n",
        "Assumes that all file_names are correct! (with step count etc)"
      ]
    },
    {
      "cell_type": "markdown",
      "metadata": {
        "id": "NC32JOGavp3Y"
      },
      "source": [
        "## Code"
      ]
    },
    {
      "cell_type": "code",
      "metadata": {
        "id": "WvqqngcnqQTF"
      },
      "source": [
        "def create_training_csv_from_multiple_runs(base_file_name):\n",
        "  all_related_files = find_related_csv_files(base_file_name)\n",
        "\n",
        "  #create a df for each file\n",
        "  dfs = []\n",
        "  for name in all_related_files:\n",
        "    dfs.append(pd.read_csv(DATA_PATH + name + \".csv\"))\n",
        "\n",
        "  dfs = remove_overlap_from_dfs(dfs)\n",
        "\n",
        "  #Concatenate\n",
        "  final_df = pd.concat(dfs)\n",
        "  final_df = final_df.set_index(\"Step\")\n",
        "\n",
        "  #Save to file\n",
        "  final_df.to_csv(DATA_PATH +base_file_name +\"_combined.csv\")\n",
        "\n",
        "def create_EVAL_csv_from_multiple_runs(base_file_name):\n",
        "  all_related_files = find_related_csv_files(base_file_name)\n",
        "  base = 32*256*16\n",
        "\n",
        "  dfs = []\n",
        "  for name in all_related_files:\n",
        "    df = pd.read_csv(DATA_PATH + name + \"_EVAL.csv\")\n",
        "    #add steps if missing\n",
        "    if \"step\" not in df.columns:\n",
        "      df.insert(0, \"Step\", [base*(i+1) for i in range(len(df))])\n",
        "    else:\n",
        "      df.rename(columns={'step':'Step'}, inplace=True)\n",
        "    dfs.append(df)\n",
        "\n",
        "  dfs = remove_overlap_from_dfs(dfs)\n",
        "\n",
        "  #Remove whitespace in headers\n",
        "  for df in dfs:\n",
        "    df.rename(columns=lambda x: x.strip(), inplace=True)\n",
        "\n",
        "    #Concatenate\n",
        "  final_df = pd.concat(dfs)\n",
        "  final_df = final_df.set_index(\"Step\")\n",
        "\n",
        "  #save in file\n",
        "  final_df.to_csv(DATA_PATH +base_file_name +\"_combined_EVAL.csv\")\n",
        "\n",
        "\n",
        "def remove_overlap_from_dfs(dfs):\n",
        "  #Dataframes overlap, so cut off excess\n",
        "  breakpoints=[]\n",
        "  for df in dfs[1:]:\n",
        "    breakpoints.append(df['Step'][0])\n",
        "  for i in range(len(dfs)-1):\n",
        "    dfs[i] = dfs[i][dfs[i][\"Step\"] < breakpoints[i]]\n",
        "  return dfs\n",
        "\n",
        "def find_related_csv_files(base_file_name):\n",
        "  file_names = [x.strip() for x in INDEX['file_name']]\n",
        "  all_related_files= []\n",
        "  for name in file_names:\n",
        "    if base_file_name in name and \"combined\" not in name:\n",
        "      all_related_files.append(name)\n",
        "\n",
        "  return all_related_files\n"
      ],
      "execution_count": 11,
      "outputs": []
    },
    {
      "cell_type": "markdown",
      "metadata": {
        "id": "5-6sF1lfvmil"
      },
      "source": [
        "## Create files"
      ]
    },
    {
      "cell_type": "code",
      "metadata": {
        "id": "73uSMNfisMUI"
      },
      "source": [
        "base_file_name = \"Experiment8_200levels_Run_06Dec_16h17m59s\"\n",
        "create_EVAL_csv_from_multiple_runs(base_file_name)\n",
        "create_training_csv_from_multiple_runs(base_file_name)"
      ],
      "execution_count": 12,
      "outputs": []
    },
    {
      "cell_type": "code",
      "metadata": {
        "id": "GUhSclwtsQQK"
      },
      "source": [
        "base_file_name = \"Experiment7_200levels_Run_06Dec_16h18m31s\"\n",
        "create_EVAL_csv_from_multiple_runs(base_file_name)\n",
        "create_training_csv_from_multiple_runs(base_file_name)"
      ],
      "execution_count": 13,
      "outputs": []
    },
    {
      "cell_type": "code",
      "metadata": {
        "id": "vVPLmX-au3Dp"
      },
      "source": [
        ""
      ],
      "execution_count": 13,
      "outputs": []
    }
  ]
}