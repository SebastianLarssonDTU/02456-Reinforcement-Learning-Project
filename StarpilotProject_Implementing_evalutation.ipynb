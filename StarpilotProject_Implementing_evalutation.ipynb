{
  "nbformat": 4,
  "nbformat_minor": 0,
  "metadata": {
    "colab": {
      "name": "StarpilotProject.ipynb",
      "provenance": [],
      "include_colab_link": true
    },
    "kernelspec": {
      "name": "python3",
      "display_name": "Python 3"
    },
    "accelerator": "GPU"
  },
  "cells": [
    {
      "cell_type": "markdown",
      "metadata": {
        "id": "view-in-github",
        "colab_type": "text"
      },
      "source": [
        "<a href=\"https://colab.research.google.com/github/SebastianLarssonDTU/02456-Reinforcement-Learning-Project/blob/restructure_code/StarpilotProject_Implementing_evalutation.ipynb\" target=\"_parent\"><img src=\"https://colab.research.google.com/assets/colab-badge.svg\" alt=\"Open In Colab\"/></a>"
      ]
    },
    {
      "cell_type": "markdown",
      "metadata": {
        "id": "L6jlWJKXBo0m"
      },
      "source": [
        "# INIT : Procgen, Drive, Git"
      ]
    },
    {
      "cell_type": "code",
      "metadata": {
        "id": "_mmSs5ItNLLI"
      },
      "source": [
        "!pip install procgen"
      ],
      "execution_count": null,
      "outputs": []
    },
    {
      "cell_type": "code",
      "metadata": {
        "id": "_RgF6myEA6WL"
      },
      "source": [
        "#Clone git\n",
        "!git clone -b restructure_code https://github.com/SebastianLarssonDTU/02456-Reinforcement-Learning-Project.git \"my_project\""
      ],
      "execution_count": null,
      "outputs": []
    },
    {
      "cell_type": "code",
      "metadata": {
        "id": "G-jsbleFHMz7"
      },
      "source": [
        "#update git\n",
        "%cd /content/my_project\n",
        "! git pull"
      ],
      "execution_count": null,
      "outputs": []
    },
    {
      "cell_type": "code",
      "metadata": {
        "id": "abnnrXLuB6Ry"
      },
      "source": [
        "import datatools as tools\n",
        "from datatools import DATA_PATH, MODEL_PATH\n",
        "#Mount drive\n",
        "tools.mount_drive()"
      ],
      "execution_count": null,
      "outputs": []
    },
    {
      "cell_type": "markdown",
      "metadata": {
        "id": "OBb1c_XBBsNl"
      },
      "source": [
        "# TESTING IMPLEMENTATION"
      ]
    },
    {
      "cell_type": "code",
      "metadata": {
        "id": "7XmB8QZ7BQIW"
      },
      "source": [
        "from baseline import set_hyperparameters\n",
        "import hyperparameters as h\n",
        "from ppo import PPO\n",
        "import torch"
      ],
      "execution_count": null,
      "outputs": []
    },
    {
      "cell_type": "code",
      "metadata": {
        "id": "xxiGBAGACpMJ"
      },
      "source": [
        "set_hyperparameters(baseline='Procgen')\n",
        "model = PPO(print_output=True)"
      ],
      "execution_count": null,
      "outputs": []
    },
    {
      "cell_type": "code",
      "metadata": {
        "id": "RY1tH-tsCrjl"
      },
      "source": [
        "policy = model.train()"
      ],
      "execution_count": null,
      "outputs": []
    },
    {
      "cell_type": "code",
      "metadata": {
        "id": "kGtJEwdwR0uF"
      },
      "source": [
        "tools.create_index_table_from_txt_files()"
      ],
      "execution_count": null,
      "outputs": []
    },
    {
      "cell_type": "markdown",
      "metadata": {
        "id": "qsbl2sKvy8gQ"
      },
      "source": [
        "# Testing evaluation"
      ]
    },
    {
      "cell_type": "code",
      "metadata": {
        "id": "LcUlfi0rtcBH"
      },
      "source": [
        "from model import Encoder\n",
        "from policy import Policy\n",
        "import utils\n",
        "import hyperparameters as h\n",
        "import torch.nn as nn\n",
        "import imageio\n",
        "\n",
        "class Flatten(nn.Module):\n",
        "    def forward(self, x):\n",
        "        return x.view(x.size(0), -1)\n",
        "\n",
        "\n",
        "\n",
        "MODEL_PATH = '/content/drive/My Drive/02456-Deep-Learning-Project/Models/'\n",
        "\n",
        "def load_policy(file_name):\n",
        "  encoder = Encoder(in_channels = h.in_channels, feature_dim = h.feature_dim)  \n",
        "  \n",
        "  policy = Policy(encoder = encoder, feature_dim = h.feature_dim, num_actions = 15)\n",
        "  policy.cuda()\n",
        "  policy.load_state_dict(torch.load(MODEL_PATH + file_name + '.pt')[\"policy_state_dict\"])\n",
        "  policy.cuda() \n",
        "\n",
        "  return policy"
      ],
      "execution_count": null,
      "outputs": []
    },
    {
      "cell_type": "code",
      "metadata": {
        "id": "2WeoqoYOS4_T"
      },
      "source": [
        "def policy_evaluation(video_name='vid', print_output=False, policy=None, file_name=None):\n",
        "  if policy is None and file_name is None:\n",
        "    raise ValueError(\"Policy should be specified by file_name or given as object\")\n",
        "  if policy is None:\n",
        "    policy = load_policy(file_name)\n",
        "  \n",
        "  # Make evaluation environment\n",
        "  eval_env = utils.make_env(h.num_envs, start_level=h.num_levels, num_levels=h.num_levels)\n",
        "  obs = eval_env.reset()\n",
        "\n",
        "  frames = []\n",
        "  total_reward = []\n",
        "  \n",
        "  # Evaluate policy\n",
        "  policy.eval()\n",
        "  for _ in range(512):  #<--- Hardcoded batch size?\n",
        "\n",
        "    # Use policy\n",
        "    action, log_prob, value = policy.act(obs)\n",
        "\n",
        "    # Take step in environment\n",
        "    obs, reward, done, info = eval_env.step(action)\n",
        "    total_reward.append(torch.Tensor(reward))\n",
        "\n",
        "    # Render environment and store\n",
        "    frame = (torch.Tensor(eval_env.render(mode='rgb_array'))*255.).byte()\n",
        "    frames.append(frame)\n",
        "\n",
        "  # Calculate average return\n",
        "  total_reward = torch.stack(total_reward).sum(0).mean(0)\n",
        "  \n",
        "  if print_output:\n",
        "    print('Average return:', total_reward)\n",
        "\n",
        "  # Save frames as video\n",
        "  frames = torch.stack(frames).cpu().numpy()\n",
        "  imageio.mimsave(video_name+'.mp4', frames, fps=25)\n",
        "  \n",
        "  return total_reward"
      ],
      "execution_count": null,
      "outputs": []
    },
    {
      "cell_type": "code",
      "metadata": {
        "id": "d9zXizs2sAxv"
      },
      "source": [
        "INDEX_TABLE = tools.create_index_table_from_txt_files()\n",
        "file_name = INDEX_TABLE['file_name'][-1].strip()\n",
        "\n",
        "policy = load_policy(file_name)\n",
        "policy_evaluation(print_output=True, policy = policy)"
      ],
      "execution_count": null,
      "outputs": []
    }
  ]
}