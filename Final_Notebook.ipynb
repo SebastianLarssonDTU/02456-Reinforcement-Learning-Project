{
  "nbformat": 4,
  "nbformat_minor": 0,
  "metadata": {
    "colab": {
      "name": "Final_Notebook.ipynb",
      "provenance": [],
      "collapsed_sections": [],
      "toc_visible": true,
      "include_colab_link": true
    },
    "kernelspec": {
      "name": "python3",
      "display_name": "Python 3"
    },
    "accelerator": "GPU"
  },
  "cells": [
    {
      "cell_type": "markdown",
      "metadata": {
        "id": "view-in-github",
        "colab_type": "text"
      },
      "source": [
        "<a href=\"https://colab.research.google.com/github/SebastianLarssonDTU/02456-Reinforcement-Learning-Project/blob/clean-up-for-report/Final_Notebook.ipynb\" target=\"_parent\"><img src=\"https://colab.research.google.com/assets/colab-badge.svg\" alt=\"Open In Colab\"/></a>"
      ]
    },
    {
      "cell_type": "markdown",
      "metadata": {
        "id": "qVCcg-BMGMOP"
      },
      "source": [
        "# About this notebook\r\n",
        "\r\n",
        "This notebook is created by Sebastian Larsson and Henriette Becker Kristiansen. It functions as supplementary material to the article found here.\r\n",
        "It has been created as part of the authors attending the course \"02456 Deep Learning\" at the Technical University of Denmark in the fall of 2020. \r\n",
        "\r\n",
        "*INSERT LINK*\r\n",
        "\r\n",
        "Running the whole notebook will do the following:\r\n",
        "\r\n",
        "*   Install needed packages used in the project\r\n",
        "*   Clone the git repository\r\n",
        "*   Load the trained models used in the article\r\n",
        "*   Run evaluation on one of the models\r\n",
        "*   Generate example videos from trained model\r\n",
        "\r\n",
        "Moreover this notebook contains snippets of code that is outcommented that can create and train new models using our implemented architectures.\r\n",
        "\r\n"
      ]
    },
    {
      "cell_type": "markdown",
      "metadata": {
        "id": "L6jlWJKXBo0m"
      },
      "source": [
        "# Initialisation\r\n",
        "\r\n",
        "First we need to install the needed Procgen benchmark that is needed to run the game on.\r\n",
        "\r\n",
        "Then we need to clone the git for access to all our own code.\r\n"
      ]
    },
    {
      "cell_type": "code",
      "metadata": {
        "id": "_mmSs5ItNLLI",
        "colab": {
          "base_uri": "https://localhost:8080/"
        },
        "outputId": "29425083-59d9-46d1-c1c9-9e022becf927"
      },
      "source": [
        "!pip install procgen"
      ],
      "execution_count": 1,
      "outputs": [
        {
          "output_type": "stream",
          "text": [
            "Requirement already satisfied: procgen in /usr/local/lib/python3.6/dist-packages (0.10.4)\n",
            "Requirement already satisfied: numpy<2.0.0,>=1.17.0 in /usr/local/lib/python3.6/dist-packages (from procgen) (1.19.4)\n",
            "Requirement already satisfied: filelock<4.0.0,>=3.0.0 in /usr/local/lib/python3.6/dist-packages (from procgen) (3.0.12)\n",
            "Requirement already satisfied: gym<1.0.0,>=0.15.0 in /usr/local/lib/python3.6/dist-packages (from procgen) (0.17.3)\n",
            "Requirement already satisfied: gym3<1.0.0,>=0.3.3 in /usr/local/lib/python3.6/dist-packages (from procgen) (0.3.3)\n",
            "Requirement already satisfied: pyglet<=1.5.0,>=1.4.0 in /usr/local/lib/python3.6/dist-packages (from gym<1.0.0,>=0.15.0->procgen) (1.5.0)\n",
            "Requirement already satisfied: scipy in /usr/local/lib/python3.6/dist-packages (from gym<1.0.0,>=0.15.0->procgen) (1.4.1)\n",
            "Requirement already satisfied: cloudpickle<1.7.0,>=1.2.0 in /usr/local/lib/python3.6/dist-packages (from gym<1.0.0,>=0.15.0->procgen) (1.3.0)\n",
            "Requirement already satisfied: cffi<2.0.0,>=1.13.0 in /usr/local/lib/python3.6/dist-packages (from gym3<1.0.0,>=0.3.3->procgen) (1.14.4)\n",
            "Requirement already satisfied: moderngl<6.0.0,>=5.5.4 in /usr/local/lib/python3.6/dist-packages (from gym3<1.0.0,>=0.3.3->procgen) (5.6.2)\n",
            "Requirement already satisfied: imageio-ffmpeg<0.4.0,>=0.3.0 in /usr/local/lib/python3.6/dist-packages (from gym3<1.0.0,>=0.3.3->procgen) (0.3.0)\n",
            "Requirement already satisfied: imageio<3.0.0,>=2.6.0 in /usr/local/lib/python3.6/dist-packages (from gym3<1.0.0,>=0.3.3->procgen) (2.9.0)\n",
            "Requirement already satisfied: glfw<2.0.0,>=1.8.6 in /usr/local/lib/python3.6/dist-packages (from gym3<1.0.0,>=0.3.3->procgen) (1.12.0)\n",
            "Requirement already satisfied: future in /usr/local/lib/python3.6/dist-packages (from pyglet<=1.5.0,>=1.4.0->gym<1.0.0,>=0.15.0->procgen) (0.16.0)\n",
            "Requirement already satisfied: pycparser in /usr/local/lib/python3.6/dist-packages (from cffi<2.0.0,>=1.13.0->gym3<1.0.0,>=0.3.3->procgen) (2.20)\n",
            "Requirement already satisfied: glcontext<3,>=2 in /usr/local/lib/python3.6/dist-packages (from moderngl<6.0.0,>=5.5.4->gym3<1.0.0,>=0.3.3->procgen) (2.2.0)\n",
            "Requirement already satisfied: pillow in /usr/local/lib/python3.6/dist-packages (from imageio<3.0.0,>=2.6.0->gym3<1.0.0,>=0.3.3->procgen) (7.0.0)\n"
          ],
          "name": "stdout"
        }
      ]
    },
    {
      "cell_type": "code",
      "metadata": {
        "id": "_RgF6myEA6WL",
        "colab": {
          "base_uri": "https://localhost:8080/"
        },
        "outputId": "619aa260-bb4b-436c-d768-5744da7f75cd"
      },
      "source": [
        "#Clone git\n",
        "!git clone -b \"clean-up-for-report\" https://github.com/SebastianLarssonDTU/02456-Reinforcement-Learning-Project.git \"my_project\""
      ],
      "execution_count": 2,
      "outputs": [
        {
          "output_type": "stream",
          "text": [
            "fatal: destination path 'my_project' already exists and is not an empty directory.\n"
          ],
          "name": "stdout"
        }
      ]
    },
    {
      "cell_type": "markdown",
      "metadata": {
        "id": "pvb1_MqzGI1c"
      },
      "source": [
        ""
      ]
    },
    {
      "cell_type": "code",
      "metadata": {
        "id": "G-jsbleFHMz7",
        "colab": {
          "base_uri": "https://localhost:8080/"
        },
        "outputId": "213d08b4-cb8d-4d81-cb62-47edc3d0484e"
      },
      "source": [
        "#update git (in case of a restart and run all, then the project is already cloned)\n",
        "%cd /content/my_project\n",
        "! git pull"
      ],
      "execution_count": 3,
      "outputs": [
        {
          "output_type": "stream",
          "text": [
            "/content/my_project\n",
            "remote: Enumerating objects: 7, done.\u001b[K\n",
            "remote: Counting objects: 100% (7/7), done.\u001b[K\n",
            "remote: Compressing objects: 100% (7/7), done.\u001b[K\n",
            "remote: Total 7 (delta 0), reused 7 (delta 0), pack-reused 0\u001b[K\n",
            "Unpacking objects: 100% (7/7), done.\n",
            "From https://github.com/SebastianLarssonDTU/02456-Reinforcement-Learning-Project\n",
            "   a3945f5..cd0f03b  clean-up-for-report -> origin/clean-up-for-report\n",
            "Updating a3945f5..cd0f03b\n",
            "Fast-forward\n",
            " Data/Experiment7_Run_30Nov_14h45m32s.csv           | 978 \u001b[32m+++++++++++++++++++++\u001b[m\n",
            " ...h12m45s_loaded_05Dec_10h49m07s_12517376steps.pt | Bin \u001b[31m0\u001b[m -> \u001b[32m13894467\u001b[m bytes\n",
            " Trained models/Experiment7_Run_30Nov_14h45m32s.pt  | Bin \u001b[31m0\u001b[m -> \u001b[32m13894567\u001b[m bytes\n",
            " 3 files changed, 978 insertions(+)\n",
            " create mode 100644 Data/Experiment7_Run_30Nov_14h45m32s.csv\n",
            " create mode 100644 Trained models/Experiment7_50levels_Run_04Dec_18h12m45s_loaded_05Dec_10h49m07s_12517376steps.pt\n",
            " create mode 100644 Trained models/Experiment7_Run_30Nov_14h45m32s.pt\n"
          ],
          "name": "stdout"
        }
      ]
    },
    {
      "cell_type": "markdown",
      "metadata": {
        "id": "DKT1UkeUE9ii"
      },
      "source": [
        "# Imports"
      ]
    },
    {
      "cell_type": "code",
      "metadata": {
        "id": "abnnrXLuB6Ry"
      },
      "source": [
        "import datatools as tools\n",
        "import hyperparameters as h\n",
        "from ppo import PPO\n",
        "from baseline import set_hyperparameters\n",
        "\n",
        "#overwrite paths\n",
        "tools.DATA_PATH = \"/content/my_project\"\n",
        "tools.MODEL_PATH = \"/content/my_project/Trained models\""
      ],
      "execution_count": 4,
      "outputs": []
    },
    {
      "cell_type": "markdown",
      "metadata": {
        "id": "ksH8ZJJgF2tD"
      },
      "source": [
        "# Start training of new model from scratch\r\n"
      ]
    },
    {
      "cell_type": "markdown",
      "metadata": {
        "id": "pyu1ikHSGAZ8"
      },
      "source": [
        "## Setting hyperparameters"
      ]
    },
    {
      "cell_type": "code",
      "metadata": {
        "id": "iVBviH8DF9Yy"
      },
      "source": [
        ""
      ],
      "execution_count": 4,
      "outputs": []
    },
    {
      "cell_type": "markdown",
      "metadata": {
        "id": "FRcr1QvKGDrV"
      },
      "source": [
        "## Start training"
      ]
    },
    {
      "cell_type": "code",
      "metadata": {
        "id": "jsuo8DXgGFv-"
      },
      "source": [
        ""
      ],
      "execution_count": 4,
      "outputs": []
    },
    {
      "cell_type": "markdown",
      "metadata": {
        "id": "eeFS3FlFFqr6"
      },
      "source": [
        "# Loading trained models\r\n"
      ]
    },
    {
      "cell_type": "code",
      "metadata": {
        "id": "ruVVHHekSvJe"
      },
      "source": [
        "levels=[10, 50, 200]"
      ],
      "execution_count": 5,
      "outputs": []
    },
    {
      "cell_type": "markdown",
      "metadata": {
        "id": "kUH6moNASYMm"
      },
      "source": [
        "## Nature Architecture with Value clipping"
      ]
    },
    {
      "cell_type": "code",
      "metadata": {
        "id": "cJlrLWwFTKbW"
      },
      "source": [
        "nature_model_files={}\r\n",
        "\r\n",
        "nature_model_files[10] = \"Experiment2_Run_27Nov_11h05m48s\"\r\n",
        "nature_model_files[50] = \"Experiment2_50levels_Run_04Dec_18h10m32s_loaded_06Dec_12h08m48s_27541504steps\"  #bug in naming of files at the time of running this. True #steps is 8019968\r\n",
        "nature_model_files[200] = \"Experiment2_200levels_Run_07Dec_13h49m13s_loaded_08Dec_17h00m43s_8126464steps\"\r\n"
      ],
      "execution_count": 6,
      "outputs": []
    },
    {
      "cell_type": "code",
      "metadata": {
        "colab": {
          "base_uri": "https://localhost:8080/"
        },
        "id": "ph5GYjncFs3y",
        "outputId": "3ba6f3e9-510c-49b1-f9d3-b1cccc2c04b3"
      },
      "source": [
        "#set hyperparameters\r\n",
        "set_hyperparameters(baseline=\"PPO\")\r\n",
        "h.value_clipping = True\r\n",
        "nature_models={}\r\n",
        "\r\n",
        "for level in levels:\r\n",
        "  h.num_levels = level\r\n",
        "  model = PPO(print_output=True, eval=True, save_interval=5e5)\r\n",
        "  policy=model.load_policy(nature_model_files[level], model_path = \"/content/my_project/Trained models/\", data_path = \"/content/my_project/Data/\")\r\n",
        "  nature_models[level] = model"
      ],
      "execution_count": 7,
      "outputs": [
        {
          "output_type": "stream",
          "text": [
            "Observation space: Box(0.0, 1.0, (3, 64, 64), float32)\n",
            "Action space: 15\n",
            "Loaded current model from models folder with name Experiment2_Run_27Nov_11h05m48s.pt\n",
            "Observation space: Box(0.0, 1.0, (3, 64, 64), float32)\n",
            "Action space: 15\n",
            "Loaded current model from models folder with name Experiment2_50levels_Run_04Dec_18h10m32s_loaded_06Dec_12h08m48s_27541504steps.pt\n",
            "Observation space: Box(0.0, 1.0, (3, 64, 64), float32)\n",
            "Action space: 15\n",
            "Loaded current model from models folder with name Experiment2_200levels_Run_07Dec_13h49m13s_loaded_08Dec_17h00m43s_8126464steps.pt\n"
          ],
          "name": "stdout"
        }
      ]
    },
    {
      "cell_type": "markdown",
      "metadata": {
        "id": "T0K4sl8sZpDG"
      },
      "source": [
        "## IMPALA architecture "
      ]
    },
    {
      "cell_type": "code",
      "metadata": {
        "id": "vMmBZyfOZs-K"
      },
      "source": [
        "impala_model_files={}\r\n",
        "\r\n",
        "impala_model_files[10] = \"Experiment7_Run_30Nov_14h45m32s\"\r\n",
        "impala_model_files[50] = \"Experiment7_50levels_Run_04Dec_18h12m45s_loaded_05Dec_10h49m07s_12517376steps\" #actual steps is 8011776\r\n",
        "impala_model_files[200] = \"Experiment7_200levels_Run_06Dec_16h18m31s_loaded_08Dec_14h21m55s_8019968steps\"\r\n"
      ],
      "execution_count": 8,
      "outputs": []
    },
    {
      "cell_type": "code",
      "metadata": {
        "colab": {
          "base_uri": "https://localhost:8080/"
        },
        "id": "iR2hGLuqZz-F",
        "outputId": "121d79a3-2fb0-4421-f251-8dc65664dea2"
      },
      "source": [
        "#set hyperparameters\r\n",
        "set_hyperparameters(baseline=\"Impala\")\r\n",
        "h.value_clipping = True\r\n",
        "h.batch_size=512\r\n",
        "\r\n",
        "impala_models={}\r\n",
        "\r\n",
        "for level in levels:\r\n",
        "  h.num_levels = level\r\n",
        "  model = PPO(print_output=True, eval=True, save_interval=5e5)\r\n",
        "  policy=model.load_policy(impala_model_files[level], model_path = \"/content/my_project/Trained models/\", data_path = \"/content/my_project/Data/\")\r\n",
        "  impala_models[level] = model"
      ],
      "execution_count": 9,
      "outputs": [
        {
          "output_type": "stream",
          "text": [
            "Observation space: Box(0.0, 1.0, (3, 64, 64), float32)\n",
            "Action space: 15\n",
            "Loaded current model from models folder with name Experiment7_Run_30Nov_14h45m32s.pt\n",
            "Observation space: Box(0.0, 1.0, (3, 64, 64), float32)\n",
            "Action space: 15\n",
            "Loaded current model from models folder with name Experiment7_50levels_Run_04Dec_18h12m45s_loaded_05Dec_10h49m07s_12517376steps.pt\n",
            "Observation space: Box(0.0, 1.0, (3, 64, 64), float32)\n",
            "Action space: 15\n",
            "Loaded current model from models folder with name Experiment7_200levels_Run_06Dec_16h18m31s_loaded_08Dec_14h21m55s_8019968steps.pt\n"
          ],
          "name": "stdout"
        }
      ]
    },
    {
      "cell_type": "markdown",
      "metadata": {
        "id": "uoLjN022FvNQ"
      },
      "source": [
        "# Evaluate trained model"
      ]
    },
    {
      "cell_type": "code",
      "metadata": {
        "id": "hhF5UDB3FyIF"
      },
      "source": [
        ""
      ],
      "execution_count": 9,
      "outputs": []
    }
  ]
}