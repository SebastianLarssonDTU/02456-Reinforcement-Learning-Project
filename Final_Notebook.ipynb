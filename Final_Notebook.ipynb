{
  "nbformat": 4,
  "nbformat_minor": 0,
  "metadata": {
    "colab": {
      "name": "Final_Notebook.ipynb",
      "provenance": [],
      "collapsed_sections": [],
      "toc_visible": true,
      "include_colab_link": true
    },
    "kernelspec": {
      "name": "python3",
      "display_name": "Python 3"
    },
    "accelerator": "GPU"
  },
  "cells": [
    {
      "cell_type": "markdown",
      "metadata": {
        "id": "view-in-github",
        "colab_type": "text"
      },
      "source": [
        "<a href=\"https://colab.research.google.com/github/SebastianLarssonDTU/02456-Reinforcement-Learning-Project/blob/clean-up-for-report/Final_Notebook.ipynb\" target=\"_parent\"><img src=\"https://colab.research.google.com/assets/colab-badge.svg\" alt=\"Open In Colab\"/></a>"
      ]
    },
    {
      "cell_type": "markdown",
      "metadata": {
        "id": "qVCcg-BMGMOP"
      },
      "source": [
        "# About this notebook\r\n",
        "\r\n",
        "This notebook is created by Sebastian Larsson and Henriette Becker Kristiansen. It functions as supplementary material to the article found here.\r\n",
        "It has been created as part of the authors attending the course \"02456 Deep Learning\" at the Technical University of Denmark in the fall of 2020. \r\n",
        "\r\n",
        "*INSERT LINK*\r\n",
        "\r\n",
        "Running the whole notebook will do the following:\r\n",
        "\r\n",
        "*   Install needed packages used in the project\r\n",
        "*   Clone the git repository\r\n",
        "*   Load the trained models used in the article\r\n",
        "*   Run evaluation on one of the models\r\n",
        "*   Generate example videos from trained model\r\n",
        "\r\n",
        "Moreover this notebook contains snippets of code that is outcommented that can create and train new models using our implemented architectures.\r\n",
        "\r\n"
      ]
    },
    {
      "cell_type": "markdown",
      "metadata": {
        "id": "L6jlWJKXBo0m"
      },
      "source": [
        "# Initialisation\r\n",
        "\r\n",
        "First we need to install the needed Procgen benchmark that is needed to run the game on.\r\n",
        "\r\n",
        "Then we need to clone the git for access to all our own code.\r\n"
      ]
    },
    {
      "cell_type": "code",
      "metadata": {
        "id": "_mmSs5ItNLLI",
        "colab": {
          "base_uri": "https://localhost:8080/"
        },
        "outputId": "b64d4419-6b2f-4891-a776-72b24ce1fed8"
      },
      "source": [
        "!pip install procgen"
      ],
      "execution_count": 1,
      "outputs": [
        {
          "output_type": "stream",
          "text": [
            "Requirement already satisfied: procgen in /usr/local/lib/python3.6/dist-packages (0.10.4)\n",
            "Requirement already satisfied: gym3<1.0.0,>=0.3.3 in /usr/local/lib/python3.6/dist-packages (from procgen) (0.3.3)\n",
            "Requirement already satisfied: numpy<2.0.0,>=1.17.0 in /usr/local/lib/python3.6/dist-packages (from procgen) (1.19.4)\n",
            "Requirement already satisfied: filelock<4.0.0,>=3.0.0 in /usr/local/lib/python3.6/dist-packages (from procgen) (3.0.12)\n",
            "Requirement already satisfied: gym<1.0.0,>=0.15.0 in /usr/local/lib/python3.6/dist-packages (from procgen) (0.17.3)\n",
            "Requirement already satisfied: moderngl<6.0.0,>=5.5.4 in /usr/local/lib/python3.6/dist-packages (from gym3<1.0.0,>=0.3.3->procgen) (5.6.2)\n",
            "Requirement already satisfied: imageio-ffmpeg<0.4.0,>=0.3.0 in /usr/local/lib/python3.6/dist-packages (from gym3<1.0.0,>=0.3.3->procgen) (0.3.0)\n",
            "Requirement already satisfied: imageio<3.0.0,>=2.6.0 in /usr/local/lib/python3.6/dist-packages (from gym3<1.0.0,>=0.3.3->procgen) (2.9.0)\n",
            "Requirement already satisfied: glfw<2.0.0,>=1.8.6 in /usr/local/lib/python3.6/dist-packages (from gym3<1.0.0,>=0.3.3->procgen) (1.12.0)\n",
            "Requirement already satisfied: cffi<2.0.0,>=1.13.0 in /usr/local/lib/python3.6/dist-packages (from gym3<1.0.0,>=0.3.3->procgen) (1.14.4)\n",
            "Requirement already satisfied: cloudpickle<1.7.0,>=1.2.0 in /usr/local/lib/python3.6/dist-packages (from gym<1.0.0,>=0.15.0->procgen) (1.3.0)\n",
            "Requirement already satisfied: scipy in /usr/local/lib/python3.6/dist-packages (from gym<1.0.0,>=0.15.0->procgen) (1.4.1)\n",
            "Requirement already satisfied: pyglet<=1.5.0,>=1.4.0 in /usr/local/lib/python3.6/dist-packages (from gym<1.0.0,>=0.15.0->procgen) (1.5.0)\n",
            "Requirement already satisfied: glcontext<3,>=2 in /usr/local/lib/python3.6/dist-packages (from moderngl<6.0.0,>=5.5.4->gym3<1.0.0,>=0.3.3->procgen) (2.2.0)\n",
            "Requirement already satisfied: pillow in /usr/local/lib/python3.6/dist-packages (from imageio<3.0.0,>=2.6.0->gym3<1.0.0,>=0.3.3->procgen) (7.0.0)\n",
            "Requirement already satisfied: pycparser in /usr/local/lib/python3.6/dist-packages (from cffi<2.0.0,>=1.13.0->gym3<1.0.0,>=0.3.3->procgen) (2.20)\n",
            "Requirement already satisfied: future in /usr/local/lib/python3.6/dist-packages (from pyglet<=1.5.0,>=1.4.0->gym<1.0.0,>=0.15.0->procgen) (0.16.0)\n"
          ],
          "name": "stdout"
        }
      ]
    },
    {
      "cell_type": "code",
      "metadata": {
        "id": "_RgF6myEA6WL",
        "colab": {
          "base_uri": "https://localhost:8080/"
        },
        "outputId": "7e0485f6-2e02-4acd-af9b-1d581f6442f9"
      },
      "source": [
        "#Clone git\n",
        "!git clone -b \"clean-up-for-report\" https://github.com/SebastianLarssonDTU/02456-Reinforcement-Learning-Project.git \"my_project\""
      ],
      "execution_count": 2,
      "outputs": [
        {
          "output_type": "stream",
          "text": [
            "fatal: destination path 'my_project' already exists and is not an empty directory.\n"
          ],
          "name": "stdout"
        }
      ]
    },
    {
      "cell_type": "markdown",
      "metadata": {
        "id": "pvb1_MqzGI1c"
      },
      "source": [
        ""
      ]
    },
    {
      "cell_type": "code",
      "metadata": {
        "id": "G-jsbleFHMz7",
        "colab": {
          "base_uri": "https://localhost:8080/"
        },
        "outputId": "fc437010-2972-4cef-bb55-f11adef1ad83"
      },
      "source": [
        "#update git (in case of a restart and run all, then the project is already cloned)\n",
        "%cd /content/my_project\n",
        "! git pull"
      ],
      "execution_count": 3,
      "outputs": [
        {
          "output_type": "stream",
          "text": [
            "/content/my_project\n",
            "remote: Enumerating objects: 7, done.\u001b[K\n",
            "remote: Counting objects: 100% (7/7), done.\u001b[K\n",
            "remote: Compressing objects: 100% (5/5), done.\u001b[K\n",
            "remote: Total 8 (delta 2), reused 7 (delta 2), pack-reused 1\u001b[K\n",
            "Unpacking objects: 100% (8/8), done.\n",
            "From https://github.com/SebastianLarssonDTU/02456-Reinforcement-Learning-Project\n",
            "   cd0f03b..e966a7a  clean-up-for-report -> origin/clean-up-for-report\n",
            "Updating cd0f03b..e966a7a\n",
            "Fast-forward\n",
            " Final_Notebook.ipynb                               | 427 \u001b[32m+++++++++++++++++++++\u001b[m\n",
            " ...8h17m17s_loaded_08Dec_00h29m39s_7512064steps.pt | Bin \u001b[31m0\u001b[m -> \u001b[32m13894467\u001b[m bytes\n",
            " ...8h34m02s_loaded_08Dec_15h01m51s_8019968steps.pt | Bin \u001b[31m0\u001b[m -> \u001b[32m13894467\u001b[m bytes\n",
            " 3 files changed, 427 insertions(+)\n",
            " create mode 100644 Final_Notebook.ipynb\n",
            " create mode 100644 Trained models/Experiment8_10levels_Run_07Dec_18h17m17s_loaded_08Dec_00h29m39s_7512064steps.pt\n",
            " create mode 100644 Trained models/Experiment8_50levels_Run_05Dec_08h34m02s_loaded_08Dec_15h01m51s_8019968steps.pt\n"
          ],
          "name": "stdout"
        }
      ]
    },
    {
      "cell_type": "markdown",
      "metadata": {
        "id": "DKT1UkeUE9ii"
      },
      "source": [
        "# Imports"
      ]
    },
    {
      "cell_type": "code",
      "metadata": {
        "id": "abnnrXLuB6Ry"
      },
      "source": [
        "import datatools as tools\n",
        "import hyperparameters as h\n",
        "from ppo import PPO\n",
        "from baseline import set_hyperparameters"
      ],
      "execution_count": 4,
      "outputs": []
    },
    {
      "cell_type": "markdown",
      "metadata": {
        "id": "ksH8ZJJgF2tD"
      },
      "source": [
        "# Start training of new model from scratch\r\n"
      ]
    },
    {
      "cell_type": "markdown",
      "metadata": {
        "id": "pyu1ikHSGAZ8"
      },
      "source": [
        "## Setting hyperparameters"
      ]
    },
    {
      "cell_type": "code",
      "metadata": {
        "id": "iVBviH8DF9Yy"
      },
      "source": [
        ""
      ],
      "execution_count": 4,
      "outputs": []
    },
    {
      "cell_type": "markdown",
      "metadata": {
        "id": "FRcr1QvKGDrV"
      },
      "source": [
        "## Start training"
      ]
    },
    {
      "cell_type": "code",
      "metadata": {
        "id": "jsuo8DXgGFv-"
      },
      "source": [
        ""
      ],
      "execution_count": 4,
      "outputs": []
    },
    {
      "cell_type": "markdown",
      "metadata": {
        "id": "eeFS3FlFFqr6"
      },
      "source": [
        "# Loading trained models\r\n"
      ]
    },
    {
      "cell_type": "code",
      "metadata": {
        "id": "ruVVHHekSvJe"
      },
      "source": [
        "levels=[10, 50, 200]"
      ],
      "execution_count": 5,
      "outputs": []
    },
    {
      "cell_type": "markdown",
      "metadata": {
        "id": "kUH6moNASYMm"
      },
      "source": [
        "## Nature Architecture with Value clipping"
      ]
    },
    {
      "cell_type": "code",
      "metadata": {
        "id": "cJlrLWwFTKbW"
      },
      "source": [
        "nature_model_files={}\r\n",
        "\r\n",
        "nature_model_files[10] = \"Experiment2_Run_27Nov_11h05m48s\"\r\n",
        "nature_model_files[50] = \"Experiment2_50levels_Run_04Dec_18h10m32s_loaded_06Dec_12h08m48s_27541504steps\"  #bug in naming of files at the time of running this. True #steps is 8019968\r\n",
        "nature_model_files[200] = \"Experiment2_200levels_Run_07Dec_13h49m13s_loaded_08Dec_17h00m43s_8126464steps\"\r\n"
      ],
      "execution_count": 6,
      "outputs": []
    },
    {
      "cell_type": "code",
      "metadata": {
        "colab": {
          "base_uri": "https://localhost:8080/"
        },
        "id": "ph5GYjncFs3y",
        "outputId": "0c4aa12c-8450-4b61-ed61-086e76b4a4fa"
      },
      "source": [
        "#set hyperparameters\r\n",
        "set_hyperparameters(baseline=\"PPO\")\r\n",
        "h.value_clipping = True\r\n",
        "nature_models={}\r\n",
        "\r\n",
        "for level in levels:\r\n",
        "  h.num_levels = level\r\n",
        "  model = PPO(print_output=True, eval=True, save_interval=5e5)\r\n",
        "  policy=model.load_policy(nature_model_files[level], model_path = \"/content/my_project/Trained models/\", data_path = \"/content/my_project/Data/\")\r\n",
        "  nature_models[level] = model"
      ],
      "execution_count": 7,
      "outputs": [
        {
          "output_type": "stream",
          "text": [
            "Observation space: Box(0.0, 1.0, (3, 64, 64), float32)\n",
            "Action space: 15\n",
            "Loaded current model from models folder with name Experiment2_Run_27Nov_11h05m48s.pt\n",
            "Observation space: Box(0.0, 1.0, (3, 64, 64), float32)\n",
            "Action space: 15\n",
            "Loaded current model from models folder with name Experiment2_50levels_Run_04Dec_18h10m32s_loaded_06Dec_12h08m48s_27541504steps.pt\n",
            "Observation space: Box(0.0, 1.0, (3, 64, 64), float32)\n",
            "Action space: 15\n",
            "Loaded current model from models folder with name Experiment2_200levels_Run_07Dec_13h49m13s_loaded_08Dec_17h00m43s_8126464steps.pt\n"
          ],
          "name": "stdout"
        }
      ]
    },
    {
      "cell_type": "markdown",
      "metadata": {
        "id": "T0K4sl8sZpDG"
      },
      "source": [
        "## IMPALA architecture "
      ]
    },
    {
      "cell_type": "code",
      "metadata": {
        "id": "vMmBZyfOZs-K"
      },
      "source": [
        "impala_model_files={}\r\n",
        "\r\n",
        "impala_model_files[10] = \"Experiment7_Run_30Nov_14h45m32s\"\r\n",
        "impala_model_files[50] = \"Experiment7_50levels_Run_04Dec_18h12m45s_loaded_05Dec_10h49m07s_12517376steps\" #actual steps is 8011776\r\n",
        "impala_model_files[200] = \"Experiment7_200levels_Run_06Dec_16h18m31s_loaded_08Dec_14h21m55s_8019968steps\"\r\n"
      ],
      "execution_count": 8,
      "outputs": []
    },
    {
      "cell_type": "code",
      "metadata": {
        "colab": {
          "base_uri": "https://localhost:8080/"
        },
        "id": "iR2hGLuqZz-F",
        "outputId": "63c13d4c-2d91-4606-f7c4-d079ad324e8f"
      },
      "source": [
        "#set hyperparameters\r\n",
        "set_hyperparameters(baseline=\"Impala\")\r\n",
        "h.value_clipping = True\r\n",
        "h.batch_size=512\r\n",
        "\r\n",
        "impala_models={}\r\n",
        "\r\n",
        "for level in levels:\r\n",
        "  h.num_levels = level\r\n",
        "  model = PPO(print_output=True, eval=True, save_interval=5e5)\r\n",
        "  policy=model.load_policy(impala_model_files[level], model_path = \"/content/my_project/Trained models/\", data_path = \"/content/my_project/Data/\")\r\n",
        "  impala_models[level] = model"
      ],
      "execution_count": 9,
      "outputs": [
        {
          "output_type": "stream",
          "text": [
            "Observation space: Box(0.0, 1.0, (3, 64, 64), float32)\n",
            "Action space: 15\n",
            "Loaded current model from models folder with name Experiment7_Run_30Nov_14h45m32s.pt\n",
            "Observation space: Box(0.0, 1.0, (3, 64, 64), float32)\n",
            "Action space: 15\n",
            "Loaded current model from models folder with name Experiment7_50levels_Run_04Dec_18h12m45s_loaded_05Dec_10h49m07s_12517376steps.pt\n",
            "Observation space: Box(0.0, 1.0, (3, 64, 64), float32)\n",
            "Action space: 15\n",
            "Loaded current model from models folder with name Experiment7_200levels_Run_06Dec_16h18m31s_loaded_08Dec_14h21m55s_8019968steps.pt\n"
          ],
          "name": "stdout"
        }
      ]
    },
    {
      "cell_type": "markdown",
      "metadata": {
        "id": "lnEFY7L9cD6e"
      },
      "source": [
        "## Impala with Death Penalty of 5"
      ]
    },
    {
      "cell_type": "code",
      "metadata": {
        "id": "bQvG-9WIcHau"
      },
      "source": [
        "impala_dp5_model_files={}\r\n",
        "\r\n",
        "impala_dp5_model_files[10] = \"Experiment8_10levels_Run_07Dec_18h17m17s_loaded_08Dec_00h29m39s_7512064steps\"\r\n",
        "impala_dp5_model_files[50] = \"Experiment8_50levels_Run_05Dec_08h34m02s_loaded_08Dec_15h01m51s_8019968steps\"\r\n",
        "impala_dp5_model_files[200] = \"Experiment8_200levels_Run_06Dec_16h17m59s_loaded_08Dec_13h28m10s_8028160steps\"\r\n"
      ],
      "execution_count": 10,
      "outputs": []
    },
    {
      "cell_type": "code",
      "metadata": {
        "colab": {
          "base_uri": "https://localhost:8080/"
        },
        "id": "6e6fVuVKc9en",
        "outputId": "90e8f582-2ab4-4290-a4b5-0275efad16d4"
      },
      "source": [
        "#set hyperparameters\r\n",
        "set_hyperparameters(baseline=\"Impala\")\r\n",
        "h.value_clipping = True\r\n",
        "h.batch_size=512\r\n",
        "h.death_penalty = True\r\n",
        "h.penalty = 5\r\n",
        "\r\n",
        "impala_dp5_models={}\r\n",
        "\r\n",
        "for level in levels:\r\n",
        "  h.num_levels = level\r\n",
        "  model = PPO(print_output=True, eval=True, save_interval=5e5)\r\n",
        "  policy=model.load_policy(impala_dp5_model_files[level], model_path = \"/content/my_project/Trained models/\", data_path = \"/content/my_project/Data/\")\r\n",
        "  impala_dp5_models[level] = model"
      ],
      "execution_count": 11,
      "outputs": [
        {
          "output_type": "stream",
          "text": [
            "Observation space: Box(0.0, 1.0, (3, 64, 64), float32)\n",
            "Action space: 15\n",
            "Loaded current model from models folder with name Experiment8_10levels_Run_07Dec_18h17m17s_loaded_08Dec_00h29m39s_7512064steps.pt\n",
            "Observation space: Box(0.0, 1.0, (3, 64, 64), float32)\n",
            "Action space: 15\n",
            "Loaded current model from models folder with name Experiment8_50levels_Run_05Dec_08h34m02s_loaded_08Dec_15h01m51s_8019968steps.pt\n",
            "Observation space: Box(0.0, 1.0, (3, 64, 64), float32)\n",
            "Action space: 15\n",
            "Loaded current model from models folder with name Experiment8_200levels_Run_06Dec_16h17m59s_loaded_08Dec_13h28m10s_8028160steps.pt\n"
          ],
          "name": "stdout"
        }
      ]
    },
    {
      "cell_type": "markdown",
      "metadata": {
        "id": "uoLjN022FvNQ"
      },
      "source": [
        "# Evaluate trained model"
      ]
    },
    {
      "cell_type": "code",
      "metadata": {
        "id": "hhF5UDB3FyIF"
      },
      "source": [
        ""
      ],
      "execution_count": 11,
      "outputs": []
    }
  ]
}